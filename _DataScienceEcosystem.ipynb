{
  "metadata": {
    "kernelspec": {
      "name": "python",
      "display_name": "Python (Pyodide)",
      "language": "python"
    },
    "language_info": {
      "codemirror_mode": {
        "name": "python",
        "version": 3
      },
      "file_extension": ".py",
      "mimetype": "text/x-python",
      "name": "python",
      "nbconvert_exporter": "python",
      "pygments_lexer": "ipython3",
      "version": "3.8"
    }
  },
  "nbformat_minor": 5,
  "nbformat": 4,
  "cells": [
    {
      "id": "5873cf82-c4e4-4e35-8813-9ed65ec750ff",
      "cell_type": "markdown",
      "source": "# Data Science Tools and Ecosystem",
      "metadata": {}
    },
    {
      "id": "18d46a41-8836-45f4-8635-b40779a2429a",
      "cell_type": "markdown",
      "source": "In this notebook, Data Science Tools and Ecosystem are summarized.",
      "metadata": {}
    },
    {
      "id": "b01330ea-1b09-437b-a47c-a6e22b18e33e",
      "cell_type": "markdown",
      "source": "**Objectives:**\n\n- Popular languages for Data Science\n- Commonly used libraries for Data Science\n- Popular Data Science Tools",
      "metadata": {}
    },
    {
      "id": "541619b0-aad2-45c3-b117-81f1d4f1a6f6",
      "cell_type": "markdown",
      "source": "## Author\nTejashri Bhatt",
      "metadata": {}
    },
    {
      "id": "bb8822cb-84b7-471a-8062-4ed1101df61f",
      "cell_type": "markdown",
      "source": "Some of the popular languages that Data Scientists use are:\n1. Python\n2. R\n3. Java\n4. Julia",
      "metadata": {}
    },
    {
      "id": "eae14555-4de7-41ad-8007-45adf1e59602",
      "cell_type": "markdown",
      "source": "Some of the commonly used libraries used by Data Scientists include:\n1. Scikit-learn\n2. MatPlotlib\n3. Tensorflow\n4. Numpy",
      "metadata": {}
    },
    {
      "id": "d3f6ff18-f557-4933-907d-22ea49cf6b63",
      "cell_type": "markdown",
      "source": "|Data Science Tools|\n|------------------|\n|RStudio|\n|JupyterLab|\n|Git|\n",
      "metadata": {}
    },
    {
      "id": "09f27588-6d27-44f7-a037-aa3e804d6e26",
      "cell_type": "markdown",
      "source": "### Below are a few examples of evaluating arithmetic expressions in Python",
      "metadata": {}
    },
    {
      "id": "3a7e2f77-a8a4-47c8-a571-500c9fd81f45",
      "cell_type": "code",
      "source": "# This a simple arithmetic expression to mutiply then add integers\n(3*4)+5",
      "metadata": {
        "trusted": true
      },
      "outputs": [
        {
          "execution_count": 3,
          "output_type": "execute_result",
          "data": {
            "text/plain": "17"
          },
          "metadata": {}
        }
      ],
      "execution_count": 3
    },
    {
      "id": "bbfe6fd2-a1ee-4eb6-90ca-fa253d6b8247",
      "cell_type": "code",
      "source": "# This will convert 200 minutes to hours by diving by 60\n(200/60)",
      "metadata": {
        "trusted": true
      },
      "outputs": [
        {
          "execution_count": 4,
          "output_type": "execute_result",
          "data": {
            "text/plain": "3.3333333333333335"
          },
          "metadata": {}
        }
      ],
      "execution_count": 4
    },
    {
      "id": "9a5f095e-a7b2-46cf-bb1f-5d316a98f15f",
      "cell_type": "code",
      "source": "",
      "metadata": {
        "trusted": true
      },
      "outputs": [],
      "execution_count": null
    }
  ]
}